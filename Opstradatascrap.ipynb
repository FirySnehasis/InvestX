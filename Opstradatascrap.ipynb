{
 "cells": [
  {
   "cell_type": "code",
   "execution_count": 1,
   "metadata": {},
   "outputs": [
    {
     "ename": "StaleElementReferenceException",
     "evalue": "Message: stale element reference: stale element not found\n  (Session info: chrome=115.0.5790.102); For documentation on this error, please visit: https://www.selenium.dev/documentation/webdriver/troubleshooting/errors#stale-element-reference-exception\nStacktrace:\nBacktrace:\n\tGetHandleVerifier [0x010FA813+48355]\n\t(No symbol) [0x0108C4B1]\n\t(No symbol) [0x00F95358]\n\t(No symbol) [0x00F987A1]\n\t(No symbol) [0x00F999E1]\n\t(No symbol) [0x00F99A80]\n\t(No symbol) [0x00FBD2FD]\n\t(No symbol) [0x00FDA73C]\n\t(No symbol) [0x00FB9A36]\n\t(No symbol) [0x00FDAA94]\n\t(No symbol) [0x00FEC922]\n\t(No symbol) [0x00FDA536]\n\t(No symbol) [0x00FB82DC]\n\t(No symbol) [0x00FB93DD]\n\tGetHandleVerifier [0x0135AABD+2539405]\n\tGetHandleVerifier [0x0139A78F+2800735]\n\tGetHandleVerifier [0x0139456C+2775612]\n\tGetHandleVerifier [0x011851E0+616112]\n\t(No symbol) [0x01095F8C]\n\t(No symbol) [0x01092328]\n\t(No symbol) [0x0109240B]\n\t(No symbol) [0x01084FF7]\n\tBaseThreadInitThunk [0x75C07D59+25]\n\tRtlInitializeExceptionChain [0x7716B79B+107]\n\tRtlClearBits [0x7716B71F+191]\n",
     "output_type": "error",
     "traceback": [
      "\u001b[1;31m---------------------------------------------------------------------------\u001b[0m",
      "\u001b[1;31mStaleElementReferenceException\u001b[0m            Traceback (most recent call last)",
      "Cell \u001b[1;32mIn[1], line 51\u001b[0m\n\u001b[0;32m     49\u001b[0m optiondata \u001b[39m=\u001b[39m []\n\u001b[0;32m     50\u001b[0m \u001b[39mfor\u001b[39;00m i \u001b[39min\u001b[39;00m \u001b[39mrange\u001b[39m(\u001b[39mlen\u001b[39m(CallLTP)):\n\u001b[1;32m---> 51\u001b[0m     tempdata\u001b[39m=\u001b[39m{\u001b[39m'\u001b[39m\u001b[39mCallLTP\u001b[39m\u001b[39m'\u001b[39m: CallLTP[i]\u001b[39m.\u001b[39;49mtext,\n\u001b[0;32m     52\u001b[0m           \u001b[39m'\u001b[39m\u001b[39mitmprob\u001b[39m\u001b[39m'\u001b[39m: itmprob[i]\u001b[39m.\u001b[39mtext,\n\u001b[0;32m     53\u001b[0m           \u001b[39m'\u001b[39m\u001b[39mCallIv\u001b[39m\u001b[39m'\u001b[39m: CallIv[i]\u001b[39m.\u001b[39mtext,\n\u001b[0;32m     54\u001b[0m           \u001b[39m'\u001b[39m\u001b[39mCallDelta\u001b[39m\u001b[39m'\u001b[39m: CallDelta[i]\u001b[39m.\u001b[39mtext,\n\u001b[0;32m     55\u001b[0m           \u001b[39m'\u001b[39m\u001b[39mStrikePrice\u001b[39m\u001b[39m'\u001b[39m: StrikePrice[i]\u001b[39m.\u001b[39mtext,\n\u001b[0;32m     56\u001b[0m           \u001b[39m'\u001b[39m\u001b[39mPutDelta\u001b[39m\u001b[39m'\u001b[39m: PutDelta[i]\u001b[39m.\u001b[39mtext,\n\u001b[0;32m     57\u001b[0m           \u001b[39m'\u001b[39m\u001b[39mPutIV\u001b[39m\u001b[39m'\u001b[39m: PutIV[i]\u001b[39m.\u001b[39mtext,\n\u001b[0;32m     58\u001b[0m           \u001b[39m'\u001b[39m\u001b[39mITMProb\u001b[39m\u001b[39m'\u001b[39m: ITMProb[i]\u001b[39m.\u001b[39mtext,\n\u001b[0;32m     59\u001b[0m           \u001b[39m'\u001b[39m\u001b[39mPutLTP\u001b[39m\u001b[39m'\u001b[39m: PutLTP[i]\u001b[39m.\u001b[39mtext}\n\u001b[0;32m     60\u001b[0m     optiondata\u001b[39m.\u001b[39mappend(tempdata)\n\u001b[0;32m     62\u001b[0m df \u001b[39m=\u001b[39m pd\u001b[39m.\u001b[39mDataFrame(optiondata)\n",
      "File \u001b[1;32mc:\\Users\\guddu\\anaconda3\\lib\\site-packages\\selenium\\webdriver\\remote\\webelement.py:90\u001b[0m, in \u001b[0;36mWebElement.text\u001b[1;34m(self)\u001b[0m\n\u001b[0;32m     87\u001b[0m \u001b[39m@property\u001b[39m\n\u001b[0;32m     88\u001b[0m \u001b[39mdef\u001b[39;00m \u001b[39mtext\u001b[39m(\u001b[39mself\u001b[39m) \u001b[39m-\u001b[39m\u001b[39m>\u001b[39m \u001b[39mstr\u001b[39m:\n\u001b[0;32m     89\u001b[0m     \u001b[39m\"\"\"The text of the element.\"\"\"\u001b[39;00m\n\u001b[1;32m---> 90\u001b[0m     \u001b[39mreturn\u001b[39;00m \u001b[39mself\u001b[39;49m\u001b[39m.\u001b[39;49m_execute(Command\u001b[39m.\u001b[39;49mGET_ELEMENT_TEXT)[\u001b[39m\"\u001b[39m\u001b[39mvalue\u001b[39m\u001b[39m\"\u001b[39m]\n",
      "File \u001b[1;32mc:\\Users\\guddu\\anaconda3\\lib\\site-packages\\selenium\\webdriver\\remote\\webelement.py:395\u001b[0m, in \u001b[0;36mWebElement._execute\u001b[1;34m(self, command, params)\u001b[0m\n\u001b[0;32m    393\u001b[0m     params \u001b[39m=\u001b[39m {}\n\u001b[0;32m    394\u001b[0m params[\u001b[39m\"\u001b[39m\u001b[39mid\u001b[39m\u001b[39m\"\u001b[39m] \u001b[39m=\u001b[39m \u001b[39mself\u001b[39m\u001b[39m.\u001b[39m_id\n\u001b[1;32m--> 395\u001b[0m \u001b[39mreturn\u001b[39;00m \u001b[39mself\u001b[39;49m\u001b[39m.\u001b[39;49m_parent\u001b[39m.\u001b[39;49mexecute(command, params)\n",
      "File \u001b[1;32mc:\\Users\\guddu\\anaconda3\\lib\\site-packages\\selenium\\webdriver\\remote\\webdriver.py:346\u001b[0m, in \u001b[0;36mWebDriver.execute\u001b[1;34m(self, driver_command, params)\u001b[0m\n\u001b[0;32m    344\u001b[0m response \u001b[39m=\u001b[39m \u001b[39mself\u001b[39m\u001b[39m.\u001b[39mcommand_executor\u001b[39m.\u001b[39mexecute(driver_command, params)\n\u001b[0;32m    345\u001b[0m \u001b[39mif\u001b[39;00m response:\n\u001b[1;32m--> 346\u001b[0m     \u001b[39mself\u001b[39;49m\u001b[39m.\u001b[39;49merror_handler\u001b[39m.\u001b[39;49mcheck_response(response)\n\u001b[0;32m    347\u001b[0m     response[\u001b[39m\"\u001b[39m\u001b[39mvalue\u001b[39m\u001b[39m\"\u001b[39m] \u001b[39m=\u001b[39m \u001b[39mself\u001b[39m\u001b[39m.\u001b[39m_unwrap_value(response\u001b[39m.\u001b[39mget(\u001b[39m\"\u001b[39m\u001b[39mvalue\u001b[39m\u001b[39m\"\u001b[39m, \u001b[39mNone\u001b[39;00m))\n\u001b[0;32m    348\u001b[0m     \u001b[39mreturn\u001b[39;00m response\n",
      "File \u001b[1;32mc:\\Users\\guddu\\anaconda3\\lib\\site-packages\\selenium\\webdriver\\remote\\errorhandler.py:245\u001b[0m, in \u001b[0;36mErrorHandler.check_response\u001b[1;34m(self, response)\u001b[0m\n\u001b[0;32m    243\u001b[0m         alert_text \u001b[39m=\u001b[39m value[\u001b[39m\"\u001b[39m\u001b[39malert\u001b[39m\u001b[39m\"\u001b[39m]\u001b[39m.\u001b[39mget(\u001b[39m\"\u001b[39m\u001b[39mtext\u001b[39m\u001b[39m\"\u001b[39m)\n\u001b[0;32m    244\u001b[0m     \u001b[39mraise\u001b[39;00m exception_class(message, screen, stacktrace, alert_text)  \u001b[39m# type: ignore[call-arg]  # mypy is not smart enough here\u001b[39;00m\n\u001b[1;32m--> 245\u001b[0m \u001b[39mraise\u001b[39;00m exception_class(message, screen, stacktrace)\n",
      "\u001b[1;31mStaleElementReferenceException\u001b[0m: Message: stale element reference: stale element not found\n  (Session info: chrome=115.0.5790.102); For documentation on this error, please visit: https://www.selenium.dev/documentation/webdriver/troubleshooting/errors#stale-element-reference-exception\nStacktrace:\nBacktrace:\n\tGetHandleVerifier [0x010FA813+48355]\n\t(No symbol) [0x0108C4B1]\n\t(No symbol) [0x00F95358]\n\t(No symbol) [0x00F987A1]\n\t(No symbol) [0x00F999E1]\n\t(No symbol) [0x00F99A80]\n\t(No symbol) [0x00FBD2FD]\n\t(No symbol) [0x00FDA73C]\n\t(No symbol) [0x00FB9A36]\n\t(No symbol) [0x00FDAA94]\n\t(No symbol) [0x00FEC922]\n\t(No symbol) [0x00FDA536]\n\t(No symbol) [0x00FB82DC]\n\t(No symbol) [0x00FB93DD]\n\tGetHandleVerifier [0x0135AABD+2539405]\n\tGetHandleVerifier [0x0139A78F+2800735]\n\tGetHandleVerifier [0x0139456C+2775612]\n\tGetHandleVerifier [0x011851E0+616112]\n\t(No symbol) [0x01095F8C]\n\t(No symbol) [0x01092328]\n\t(No symbol) [0x0109240B]\n\t(No symbol) [0x01084FF7]\n\tBaseThreadInitThunk [0x75C07D59+25]\n\tRtlInitializeExceptionChain [0x7716B79B+107]\n\tRtlClearBits [0x7716B71F+191]\n"
     ]
    }
   ],
   "source": [
    "import numpy as np\n",
    "import pandas as pd\n",
    "import time\n",
    "from selenium import webdriver\n",
    "from selenium.webdriver.common.keys import Keys\n",
    "from selenium.webdriver.common.by import By\n",
    "from selenium.webdriver.chrome.options import Options\n",
    "from selenium.webdriver.chrome.service import Service\n",
    "from webdriver_manager.chrome import ChromeDriverManager\n",
    "import os\n",
    "import shutil\n",
    "\n",
    "options = webdriver.ChromeOptions()\n",
    "options.add_experimental_option(\"prefs\", {\n",
    "     \"download.default_directory\": r\"C:\\Users\\guddu\\Desktop\\Hello\", \n",
    "     \"download.prompt_for_download\": False,\n",
    "     \"download.directory_upgrade\": True,\n",
    "     \"plugins.always_open_pdf_externally\": True\n",
    "})\n",
    "driver = webdriver.Chrome(options=options)\n",
    "driver.get('https://opstra.definedge.com')\n",
    "time.sleep(2)\n",
    "search_element = driver.find_element(By.XPATH, '//*[@id=\"app\"]/div[2]/nav/div/div[4]/button/div')\n",
    "search_element.click()\n",
    "search_element1 = driver.find_element(By.XPATH, '//*[@id=\"username\"]')\n",
    "search_element1.send_keys(\"guddu03abc@gmail.com\")\n",
    "search_element2 = driver.find_element(By.XPATH, '//*[@id=\"password\"]')\n",
    "search_element2.send_keys(\"Guddu@1224\")\n",
    "search_element3 = driver.find_element(By.XPATH, '//*[@id=\"kc-login\"]')\n",
    "search_element3.click()\n",
    "driver.get('https://opstra.definedge.com/strategy-builder')\n",
    "time.sleep(2)\n",
    "search_element4 = driver.find_element(By.XPATH, '//*[@id=\"app\"]/div[62]/main/div/div/div/div/div[3]/div[2]/div[3]/ul/li/div[1]/div[1]')\n",
    "time.sleep(2)\n",
    "search_element4.click()\n",
    "for j in range(1,11):\n",
    "    add = '//*[@id=\"app\"]/div[62]/main/div/div/div/div/div[3]/div[2]/div[3]/ul/li/div[2]/div[1]/div['+str(j)+']/button/div'\n",
    "    search_element5 = driver.find_element(By.XPATH, add )\n",
    "    search_element5.click()\n",
    "    CallLTP = driver.find_elements(By.XPATH, '//tbody/tr/td[1]')\n",
    "    itmprob = driver.find_elements(By.XPATH, '//tbody/tr/td[2]')\n",
    "    CallIv = driver.find_elements(By.XPATH, '//tbody/tr/td[3]')\n",
    "    CallDelta = driver.find_elements(By.XPATH, '//tbody/tr/td[4]')\n",
    "    StrikePrice = driver.find_elements(By.XPATH, '//tbody/tr/td[5]')\n",
    "    PutDelta = driver.find_elements(By.XPATH, '//tbody/tr/td[6]')\n",
    "    PutIV = driver.find_elements(By.XPATH, '//tbody/tr/td[7]')\n",
    "    ITMProb = driver.find_elements(By.XPATH, '//tbody/tr/td[8]')\n",
    "    PutLTP = driver.find_elements(By.XPATH, '//tbody/tr/td[9]')\n",
    "    optiondata = []\n",
    "    for i in range(len(CallLTP)):\n",
    "        tempdata={'CallLTP': CallLTP[i].text,\n",
    "              'itmprob': itmprob[i].text,\n",
    "              'CallIv': CallIv[i].text,\n",
    "              'CallDelta': CallDelta[i].text,\n",
    "              'StrikePrice': StrikePrice[i].text,\n",
    "              'PutDelta': PutDelta[i].text,\n",
    "              'PutIV': PutIV[i].text,\n",
    "              'ITMProb': ITMProb[i].text,\n",
    "              'PutLTP': PutLTP[i].text}\n",
    "        optiondata.append(tempdata)\n",
    "\n",
    "    df = pd.DataFrame(optiondata)\n",
    "    df\n",
    "    output_file = \"output\"+str(j)+\".csv\"\n",
    "    df.to_csv(output_file, index=False)\n"
   ]
  },
  {
   "cell_type": "code",
   "execution_count": null,
   "metadata": {},
   "outputs": [],
   "source": []
  }
 ],
 "metadata": {
  "kernelspec": {
   "display_name": "base",
   "language": "python",
   "name": "python3"
  },
  "language_info": {
   "codemirror_mode": {
    "name": "ipython",
    "version": 3
   },
   "file_extension": ".py",
   "mimetype": "text/x-python",
   "name": "python",
   "nbconvert_exporter": "python",
   "pygments_lexer": "ipython3",
   "version": "3.10.9"
  },
  "orig_nbformat": 4
 },
 "nbformat": 4,
 "nbformat_minor": 2
}
